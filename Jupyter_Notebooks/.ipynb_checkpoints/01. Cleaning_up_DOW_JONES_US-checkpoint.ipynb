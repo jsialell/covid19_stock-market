{
 "cells": [
  {
   "cell_type": "code",
   "execution_count": 2,
   "metadata": {},
   "outputs": [],
   "source": [
    "import pandas as pd\n",
    "import numpy as np"
   ]
  },
  {
   "cell_type": "markdown",
   "metadata": {},
   "source": [
    "## Cleaning up the Dow_Jones_CSV"
   ]
  },
  {
   "cell_type": "code",
   "execution_count": 3,
   "metadata": {},
   "outputs": [],
   "source": [
    "df=pd.read_csv(\"/Users/Tianwang/ironhack/git/Data_Thief_Project_Team_Wall-e/data/ARCHIV/01_original_index_data/DOW_JONES_US.csv\")"
   ]
  },
  {
   "cell_type": "markdown",
   "metadata": {},
   "source": [
    "## Change date to datetime type"
   ]
  },
  {
   "cell_type": "code",
   "execution_count": 6,
   "metadata": {},
   "outputs": [],
   "source": [
    "df_new = df.assign(date_new = pd.to_datetime(df[\"date\"]))\n",
    "df_new[\"date\"]=df_new[\"date_new\"].copy()\n",
    "df_new = df_new.drop(\"date_new\", 1)\n",
    "df = df_new "
   ]
  },
  {
   "cell_type": "markdown",
   "metadata": {},
   "source": [
    "## Only return the relevant periode of dates"
   ]
  },
  {
   "cell_type": "code",
   "execution_count": 7,
   "metadata": {},
   "outputs": [
    {
     "data": {
      "text/html": [
       "<div>\n",
       "<style scoped>\n",
       "    .dataframe tbody tr th:only-of-type {\n",
       "        vertical-align: middle;\n",
       "    }\n",
       "\n",
       "    .dataframe tbody tr th {\n",
       "        vertical-align: top;\n",
       "    }\n",
       "\n",
       "    .dataframe thead th {\n",
       "        text-align: right;\n",
       "    }\n",
       "</style>\n",
       "<table border=\"1\" class=\"dataframe\">\n",
       "  <thead>\n",
       "    <tr style=\"text-align: right;\">\n",
       "      <th></th>\n",
       "      <th>date</th>\n",
       "      <th>value</th>\n",
       "    </tr>\n",
       "  </thead>\n",
       "  <tbody>\n",
       "    <tr>\n",
       "      <th>2955</th>\n",
       "      <td>2019-01-02</td>\n",
       "      <td>23346.24</td>\n",
       "    </tr>\n",
       "    <tr>\n",
       "      <th>2956</th>\n",
       "      <td>2019-01-03</td>\n",
       "      <td>22686.22</td>\n",
       "    </tr>\n",
       "    <tr>\n",
       "      <th>2957</th>\n",
       "      <td>2019-01-04</td>\n",
       "      <td>23433.16</td>\n",
       "    </tr>\n",
       "    <tr>\n",
       "      <th>2958</th>\n",
       "      <td>2019-01-07</td>\n",
       "      <td>23531.35</td>\n",
       "    </tr>\n",
       "    <tr>\n",
       "      <th>2959</th>\n",
       "      <td>2019-01-08</td>\n",
       "      <td>23787.45</td>\n",
       "    </tr>\n",
       "    <tr>\n",
       "      <th>...</th>\n",
       "      <td>...</td>\n",
       "      <td>...</td>\n",
       "    </tr>\n",
       "    <tr>\n",
       "      <th>3269</th>\n",
       "      <td>2020-04-01</td>\n",
       "      <td>20943.51</td>\n",
       "    </tr>\n",
       "    <tr>\n",
       "      <th>3270</th>\n",
       "      <td>2020-04-02</td>\n",
       "      <td>21413.44</td>\n",
       "    </tr>\n",
       "    <tr>\n",
       "      <th>3271</th>\n",
       "      <td>2020-04-03</td>\n",
       "      <td>21052.53</td>\n",
       "    </tr>\n",
       "    <tr>\n",
       "      <th>3272</th>\n",
       "      <td>2020-04-06</td>\n",
       "      <td>22679.99</td>\n",
       "    </tr>\n",
       "    <tr>\n",
       "      <th>3273</th>\n",
       "      <td>2020-04-07</td>\n",
       "      <td>22653.86</td>\n",
       "    </tr>\n",
       "  </tbody>\n",
       "</table>\n",
       "<p>319 rows × 2 columns</p>\n",
       "</div>"
      ],
      "text/plain": [
       "           date     value\n",
       "2955 2019-01-02  23346.24\n",
       "2956 2019-01-03  22686.22\n",
       "2957 2019-01-04  23433.16\n",
       "2958 2019-01-07  23531.35\n",
       "2959 2019-01-08  23787.45\n",
       "...         ...       ...\n",
       "3269 2020-04-01  20943.51\n",
       "3270 2020-04-02  21413.44\n",
       "3271 2020-04-03  21052.53\n",
       "3272 2020-04-06  22679.99\n",
       "3273 2020-04-07  22653.86\n",
       "\n",
       "[319 rows x 2 columns]"
      ]
     },
     "execution_count": 7,
     "metadata": {},
     "output_type": "execute_result"
    }
   ],
   "source": [
    "df = df.loc[(df[\"date\"]>=\"2019-01-01\")&(df[\"date\"]<\"2020-04-08\"),:]\n",
    "df"
   ]
  },
  {
   "cell_type": "markdown",
   "metadata": {},
   "source": [
    "# Sort by date - starting with the most recent\n",
    "\n",
    "It is important, as some CSV included values til the end of April, filled with NaN values. "
   ]
  },
  {
   "cell_type": "code",
   "execution_count": 15,
   "metadata": {},
   "outputs": [],
   "source": [
    "df=df.sort_values(by=[\"date\"], ascending=False).reset_index().drop(\"index\",1)"
   ]
  },
  {
   "cell_type": "code",
   "execution_count": 10,
   "metadata": {},
   "outputs": [
    {
     "data": {
      "text/html": [
       "<div>\n",
       "<style scoped>\n",
       "    .dataframe tbody tr th:only-of-type {\n",
       "        vertical-align: middle;\n",
       "    }\n",
       "\n",
       "    .dataframe tbody tr th {\n",
       "        vertical-align: top;\n",
       "    }\n",
       "\n",
       "    .dataframe thead th {\n",
       "        text-align: right;\n",
       "    }\n",
       "</style>\n",
       "<table border=\"1\" class=\"dataframe\">\n",
       "  <thead>\n",
       "    <tr style=\"text-align: right;\">\n",
       "      <th></th>\n",
       "      <th>date</th>\n",
       "      <th>value</th>\n",
       "    </tr>\n",
       "  </thead>\n",
       "  <tbody>\n",
       "    <tr>\n",
       "      <th>2955</th>\n",
       "      <td>2019-01-02</td>\n",
       "      <td>23346.24</td>\n",
       "    </tr>\n",
       "    <tr>\n",
       "      <th>2956</th>\n",
       "      <td>2019-01-03</td>\n",
       "      <td>22686.22</td>\n",
       "    </tr>\n",
       "    <tr>\n",
       "      <th>2957</th>\n",
       "      <td>2019-01-04</td>\n",
       "      <td>23433.16</td>\n",
       "    </tr>\n",
       "    <tr>\n",
       "      <th>2958</th>\n",
       "      <td>2019-01-07</td>\n",
       "      <td>23531.35</td>\n",
       "    </tr>\n",
       "    <tr>\n",
       "      <th>2959</th>\n",
       "      <td>2019-01-08</td>\n",
       "      <td>23787.45</td>\n",
       "    </tr>\n",
       "  </tbody>\n",
       "</table>\n",
       "</div>"
      ],
      "text/plain": [
       "           date     value\n",
       "2955 2019-01-02  23346.24\n",
       "2956 2019-01-03  22686.22\n",
       "2957 2019-01-04  23433.16\n",
       "2958 2019-01-07  23531.35\n",
       "2959 2019-01-08  23787.45"
      ]
     },
     "execution_count": 10,
     "metadata": {},
     "output_type": "execute_result"
    }
   ],
   "source": [
    "df.head()"
   ]
  },
  {
   "cell_type": "markdown",
   "metadata": {},
   "source": [
    "## Save to CSV \n",
    "\n",
    "Learned afterwards, that saving to pickle would have been much more efficient, as the datatype of datetime got lost again by saving to CSV. "
   ]
  },
  {
   "cell_type": "code",
   "execution_count": 17,
   "metadata": {},
   "outputs": [],
   "source": [
    "df.to_csv(\"DOW_JONES_US_clean\")"
   ]
  },
  {
   "cell_type": "markdown",
   "metadata": {},
   "source": [
    "Tried to write a function to be used for the other files. However, as they were from different sources, I couldn't really apply the code. "
   ]
  },
  {
   "cell_type": "code",
   "execution_count": null,
   "metadata": {},
   "outputs": [],
   "source": [
    "import pandas as pd\n",
    "import numpy as np\n",
    "\n",
    "def to_clean_data (filepath):\n",
    "    df=pd.read_csv(filepath)\n",
    "    df_new = df.assign(date_new = pd.to_datetime(df[\"date\"]))\n",
    "    df_new[\"date\"]=df_new[\"date_new\"].copy()\n",
    "    df_new = df_new.drop(\"date_new\", 1)\n",
    "    df = df_new \n",
    "    df = df.loc[(df[\"date\"]>=\"2019-01-01\")&(df[\"date\"]<\"2020-04-08\"),:]\n",
    "    df=df.sort_values(by=[\"date\"], ascending=False).reset_index().drop(\"index\",1)\n",
    "    \n",
    "    return df.to_csv(f\"{filepath}_clean\")\n",
    "\n"
   ]
  }
 ],
 "metadata": {
  "kernelspec": {
   "display_name": "Python 3",
   "language": "python",
   "name": "python3"
  },
  "language_info": {
   "codemirror_mode": {
    "name": "ipython",
    "version": 3
   },
   "file_extension": ".py",
   "mimetype": "text/x-python",
   "name": "python",
   "nbconvert_exporter": "python",
   "pygments_lexer": "ipython3",
   "version": "3.7.7"
  }
 },
 "nbformat": 4,
 "nbformat_minor": 4
}
