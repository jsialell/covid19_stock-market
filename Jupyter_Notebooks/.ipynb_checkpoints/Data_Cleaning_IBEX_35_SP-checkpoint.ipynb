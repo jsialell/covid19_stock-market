{
 "cells": [
  {
   "cell_type": "code",
   "execution_count": 1,
   "metadata": {},
   "outputs": [],
   "source": [
    "import pandas as pd\n",
    "import numpy as np"
   ]
  },
  {
   "cell_type": "code",
   "execution_count": 3,
   "metadata": {},
   "outputs": [
    {
     "data": {
      "text/html": [
       "<div>\n",
       "<style scoped>\n",
       "    .dataframe tbody tr th:only-of-type {\n",
       "        vertical-align: middle;\n",
       "    }\n",
       "\n",
       "    .dataframe tbody tr th {\n",
       "        vertical-align: top;\n",
       "    }\n",
       "\n",
       "    .dataframe thead th {\n",
       "        text-align: right;\n",
       "    }\n",
       "</style>\n",
       "<table border=\"1\" class=\"dataframe\">\n",
       "  <thead>\n",
       "    <tr style=\"text-align: right;\">\n",
       "      <th></th>\n",
       "      <th>Date</th>\n",
       "      <th>Price</th>\n",
       "      <th>High</th>\n",
       "      <th>Low</th>\n",
       "    </tr>\n",
       "  </thead>\n",
       "  <tbody>\n",
       "    <tr>\n",
       "      <th>0</th>\n",
       "      <td>2020-04-08</td>\n",
       "      <td>6,897.00</td>\n",
       "      <td>6,955.00</td>\n",
       "      <td>6,860.00</td>\n",
       "    </tr>\n",
       "    <tr>\n",
       "      <th>1</th>\n",
       "      <td>2020-04-07</td>\n",
       "      <td>7,002.00</td>\n",
       "      <td>7,119.10</td>\n",
       "      <td>6,903.60</td>\n",
       "    </tr>\n",
       "    <tr>\n",
       "      <th>2</th>\n",
       "      <td>2020-04-06</td>\n",
       "      <td>6,844.30</td>\n",
       "      <td>6,874.90</td>\n",
       "      <td>6,728.60</td>\n",
       "    </tr>\n",
       "    <tr>\n",
       "      <th>3</th>\n",
       "      <td>2020-04-03</td>\n",
       "      <td>6,581.60</td>\n",
       "      <td>6,632.50</td>\n",
       "      <td>6,509.40</td>\n",
       "    </tr>\n",
       "    <tr>\n",
       "      <th>4</th>\n",
       "      <td>2020-04-02</td>\n",
       "      <td>6,574.10</td>\n",
       "      <td>6,658.90</td>\n",
       "      <td>6,424.50</td>\n",
       "    </tr>\n",
       "  </tbody>\n",
       "</table>\n",
       "</div>"
      ],
      "text/plain": [
       "        Date     Price      High       Low\n",
       "0 2020-04-08  6,897.00  6,955.00  6,860.00\n",
       "1 2020-04-07  7,002.00  7,119.10  6,903.60\n",
       "2 2020-04-06  6,844.30  6,874.90  6,728.60\n",
       "3 2020-04-03  6,581.60  6,632.50  6,509.40\n",
       "4 2020-04-02  6,574.10  6,658.90  6,424.50"
      ]
     },
     "execution_count": 3,
     "metadata": {},
     "output_type": "execute_result"
    }
   ],
   "source": [
    "# retrieving raw data for the IBEX 35 index into a DataFrame\n",
    "df=pd.read_csv(\"/Users/jsialell/Data_Thief_Project_Team_Wall-e/data/ARCHIV/IBEX_35_SP.csv\")\n",
    "# setting dates to datetime type\n",
    "df[\"Date\"]=pd.to_datetime(df[\"Date\"])\n",
    "# deleting unnecessary columns\n",
    "df = df.drop(columns=[\"Open\",\"Vol.\",\"Change %\"])\n",
    "df.head()"
   ]
  },
  {
   "cell_type": "code",
   "execution_count": 4,
   "metadata": {},
   "outputs": [],
   "source": [
    "# Formatting items in the 'High' column to (useable) float values\n",
    "df[\"High\"]=df[\"High\"].str.replace(\",\",\"\").astype(\"float\")"
   ]
  },
  {
   "cell_type": "code",
   "execution_count": 5,
   "metadata": {},
   "outputs": [],
   "source": [
    "# Formatting items in the 'Low' column to (useable) float values\n",
    "df[\"Low\"]=df[\"Low\"].str.replace(\",\",\"\").astype(\"float\")"
   ]
  },
  {
   "cell_type": "code",
   "execution_count": 6,
   "metadata": {},
   "outputs": [],
   "source": [
    "# Formatting items in the 'Price' column to (useable) float values + renaming column to 'ibex_35_value'\n",
    "df[\"ibex_35_value\"]=df[\"Price\"].str.replace(\",\",\"\").astype(\"float\")"
   ]
  },
  {
   "cell_type": "code",
   "execution_count": 7,
   "metadata": {},
   "outputs": [
    {
     "data": {
      "text/html": [
       "<div>\n",
       "<style scoped>\n",
       "    .dataframe tbody tr th:only-of-type {\n",
       "        vertical-align: middle;\n",
       "    }\n",
       "\n",
       "    .dataframe tbody tr th {\n",
       "        vertical-align: top;\n",
       "    }\n",
       "\n",
       "    .dataframe thead th {\n",
       "        text-align: right;\n",
       "    }\n",
       "</style>\n",
       "<table border=\"1\" class=\"dataframe\">\n",
       "  <thead>\n",
       "    <tr style=\"text-align: right;\">\n",
       "      <th></th>\n",
       "      <th>Date</th>\n",
       "      <th>Price</th>\n",
       "      <th>High</th>\n",
       "      <th>Low</th>\n",
       "      <th>ibex_35_value</th>\n",
       "    </tr>\n",
       "  </thead>\n",
       "  <tbody>\n",
       "    <tr>\n",
       "      <th>0</th>\n",
       "      <td>2020-04-08</td>\n",
       "      <td>6,897.00</td>\n",
       "      <td>6955.0</td>\n",
       "      <td>6860.0</td>\n",
       "      <td>6897.0</td>\n",
       "    </tr>\n",
       "    <tr>\n",
       "      <th>1</th>\n",
       "      <td>2020-04-07</td>\n",
       "      <td>7,002.00</td>\n",
       "      <td>7119.1</td>\n",
       "      <td>6903.6</td>\n",
       "      <td>7002.0</td>\n",
       "    </tr>\n",
       "    <tr>\n",
       "      <th>2</th>\n",
       "      <td>2020-04-06</td>\n",
       "      <td>6,844.30</td>\n",
       "      <td>6874.9</td>\n",
       "      <td>6728.6</td>\n",
       "      <td>6844.3</td>\n",
       "    </tr>\n",
       "    <tr>\n",
       "      <th>3</th>\n",
       "      <td>2020-04-03</td>\n",
       "      <td>6,581.60</td>\n",
       "      <td>6632.5</td>\n",
       "      <td>6509.4</td>\n",
       "      <td>6581.6</td>\n",
       "    </tr>\n",
       "    <tr>\n",
       "      <th>4</th>\n",
       "      <td>2020-04-02</td>\n",
       "      <td>6,574.10</td>\n",
       "      <td>6658.9</td>\n",
       "      <td>6424.5</td>\n",
       "      <td>6574.1</td>\n",
       "    </tr>\n",
       "  </tbody>\n",
       "</table>\n",
       "</div>"
      ],
      "text/plain": [
       "        Date     Price    High     Low  ibex_35_value\n",
       "0 2020-04-08  6,897.00  6955.0  6860.0         6897.0\n",
       "1 2020-04-07  7,002.00  7119.1  6903.6         7002.0\n",
       "2 2020-04-06  6,844.30  6874.9  6728.6         6844.3\n",
       "3 2020-04-03  6,581.60  6632.5  6509.4         6581.6\n",
       "4 2020-04-02  6,574.10  6658.9  6424.5         6574.1"
      ]
     },
     "execution_count": 7,
     "metadata": {},
     "output_type": "execute_result"
    }
   ],
   "source": [
    "df.head()"
   ]
  },
  {
   "cell_type": "code",
   "execution_count": 10,
   "metadata": {},
   "outputs": [
    {
     "data": {
      "text/html": [
       "<div>\n",
       "<style scoped>\n",
       "    .dataframe tbody tr th:only-of-type {\n",
       "        vertical-align: middle;\n",
       "    }\n",
       "\n",
       "    .dataframe tbody tr th {\n",
       "        vertical-align: top;\n",
       "    }\n",
       "\n",
       "    .dataframe thead th {\n",
       "        text-align: right;\n",
       "    }\n",
       "</style>\n",
       "<table border=\"1\" class=\"dataframe\">\n",
       "  <thead>\n",
       "    <tr style=\"text-align: right;\">\n",
       "      <th></th>\n",
       "      <th>Date</th>\n",
       "      <th>ibex_35_value</th>\n",
       "    </tr>\n",
       "  </thead>\n",
       "  <tbody>\n",
       "    <tr>\n",
       "      <th>0</th>\n",
       "      <td>2020-04-07</td>\n",
       "      <td>7002.0</td>\n",
       "    </tr>\n",
       "    <tr>\n",
       "      <th>1</th>\n",
       "      <td>2020-04-06</td>\n",
       "      <td>6844.3</td>\n",
       "    </tr>\n",
       "    <tr>\n",
       "      <th>2</th>\n",
       "      <td>2020-04-03</td>\n",
       "      <td>6581.6</td>\n",
       "    </tr>\n",
       "    <tr>\n",
       "      <th>3</th>\n",
       "      <td>2020-04-02</td>\n",
       "      <td>6574.1</td>\n",
       "    </tr>\n",
       "    <tr>\n",
       "      <th>4</th>\n",
       "      <td>2020-04-01</td>\n",
       "      <td>6579.4</td>\n",
       "    </tr>\n",
       "  </tbody>\n",
       "</table>\n",
       "</div>"
      ],
      "text/plain": [
       "        Date  ibex_35_value\n",
       "0 2020-04-07         7002.0\n",
       "1 2020-04-06         6844.3\n",
       "2 2020-04-03         6581.6\n",
       "3 2020-04-02         6574.1\n",
       "4 2020-04-01         6579.4"
      ]
     },
     "execution_count": 10,
     "metadata": {},
     "output_type": "execute_result"
    }
   ],
   "source": [
    "# 1.keeping data from January 1st 2019 only\n",
    "# 2. sorting the DataFrame chronologically from 8 April 2020 to 1 January 2019\n",
    "# 3. Deleting unnecessary columns\n",
    "df = (df\n",
    "       .loc[(df[\"Date\"]>=\"2019-01-01\")&(df[\"Date\"]<\"2020-04-08\"),:]\n",
    "       .sort_values(\"Date\", ascending=False)\n",
    "       .reset_index()\n",
    "       .drop(columns=\"index\")\n",
    "        )[[\"Date\",\"ibex_35_value\"]]\n",
    "df.head()"
   ]
  },
  {
   "cell_type": "code",
   "execution_count": 34,
   "metadata": {},
   "outputs": [],
   "source": [
    "# Saving the clean data in the DataFrame as a csv. file\n",
    "# df.to_csv(\"/Users/jsialell/Data_Thief_Project_Team_Wall-e/data/IBEX_35_SP_clean.csv\")"
   ]
  }
 ],
 "metadata": {
  "kernelspec": {
   "display_name": "Python 3",
   "language": "python",
   "name": "python3"
  },
  "language_info": {
   "codemirror_mode": {
    "name": "ipython",
    "version": 3
   },
   "file_extension": ".py",
   "mimetype": "text/x-python",
   "name": "python",
   "nbconvert_exporter": "python",
   "pygments_lexer": "ipython3",
   "version": "3.8.1"
  }
 },
 "nbformat": 4,
 "nbformat_minor": 4
}
