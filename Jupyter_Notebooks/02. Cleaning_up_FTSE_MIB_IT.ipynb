{
 "cells": [
  {
   "cell_type": "code",
   "execution_count": 1,
   "metadata": {},
   "outputs": [],
   "source": [
    "import pandas as pd\n",
    "import numpy as np"
   ]
  },
  {
   "cell_type": "markdown",
   "metadata": {},
   "source": [
    "## Basic cleaning\n",
    "- convert date to datetime type\n",
    "- droped irrelevant rows (Open, Vol., change %)\n"
   ]
  },
  {
   "cell_type": "code",
   "execution_count": 3,
   "metadata": {},
   "outputs": [
    {
     "data": {
      "text/html": [
       "<div>\n",
       "<style scoped>\n",
       "    .dataframe tbody tr th:only-of-type {\n",
       "        vertical-align: middle;\n",
       "    }\n",
       "\n",
       "    .dataframe tbody tr th {\n",
       "        vertical-align: top;\n",
       "    }\n",
       "\n",
       "    .dataframe thead th {\n",
       "        text-align: right;\n",
       "    }\n",
       "</style>\n",
       "<table border=\"1\" class=\"dataframe\">\n",
       "  <thead>\n",
       "    <tr style=\"text-align: right;\">\n",
       "      <th></th>\n",
       "      <th>Date</th>\n",
       "      <th>Price</th>\n",
       "      <th>Open</th>\n",
       "      <th>High</th>\n",
       "      <th>Low</th>\n",
       "      <th>Vol.</th>\n",
       "      <th>Change %</th>\n",
       "    </tr>\n",
       "  </thead>\n",
       "  <tbody>\n",
       "    <tr>\n",
       "      <th>0</th>\n",
       "      <td>2020-04-08</td>\n",
       "      <td>17,356.00</td>\n",
       "      <td>17,178.50</td>\n",
       "      <td>17,388.00</td>\n",
       "      <td>17,166.50</td>\n",
       "      <td>-</td>\n",
       "      <td>-0.32%</td>\n",
       "    </tr>\n",
       "    <tr>\n",
       "      <th>1</th>\n",
       "      <td>2020-04-07</td>\n",
       "      <td>17,411.72</td>\n",
       "      <td>17,587.81</td>\n",
       "      <td>17,887.12</td>\n",
       "      <td>17,177.73</td>\n",
       "      <td>679.85M</td>\n",
       "      <td>2.19%</td>\n",
       "    </tr>\n",
       "    <tr>\n",
       "      <th>2</th>\n",
       "      <td>2020-04-06</td>\n",
       "      <td>17,039.31</td>\n",
       "      <td>16,769.13</td>\n",
       "      <td>17,053.91</td>\n",
       "      <td>16,764.81</td>\n",
       "      <td>528.13M</td>\n",
       "      <td>4.00%</td>\n",
       "    </tr>\n",
       "    <tr>\n",
       "      <th>3</th>\n",
       "      <td>2020-04-03</td>\n",
       "      <td>16,384.35</td>\n",
       "      <td>16,742.07</td>\n",
       "      <td>16,791.08</td>\n",
       "      <td>16,384.35</td>\n",
       "      <td>547.57M</td>\n",
       "      <td>-2.67%</td>\n",
       "    </tr>\n",
       "    <tr>\n",
       "      <th>4</th>\n",
       "      <td>2020-04-02</td>\n",
       "      <td>16,834.03</td>\n",
       "      <td>16,660.09</td>\n",
       "      <td>16,878.30</td>\n",
       "      <td>16,413.72</td>\n",
       "      <td>580.52M</td>\n",
       "      <td>1.75%</td>\n",
       "    </tr>\n",
       "  </tbody>\n",
       "</table>\n",
       "</div>"
      ],
      "text/plain": [
       "        Date      Price       Open       High        Low     Vol. Change %\n",
       "0 2020-04-08  17,356.00  17,178.50  17,388.00  17,166.50        -   -0.32%\n",
       "1 2020-04-07  17,411.72  17,587.81  17,887.12  17,177.73  679.85M    2.19%\n",
       "2 2020-04-06  17,039.31  16,769.13  17,053.91  16,764.81  528.13M    4.00%\n",
       "3 2020-04-03  16,384.35  16,742.07  16,791.08  16,384.35  547.57M   -2.67%\n",
       "4 2020-04-02  16,834.03  16,660.09  16,878.30  16,413.72  580.52M    1.75%"
      ]
     },
     "execution_count": 3,
     "metadata": {},
     "output_type": "execute_result"
    }
   ],
   "source": [
    "df=pd.read_csv(\"/Users/Tianwang/ironhack/git/Data_Thief_Project_Team_Wall-e/data/archiv/01_original_index_data/FTSE_MIB_IT.csv\")\n",
    "df[\"Date\"]=pd.to_datetime(df[\"Date\"])\n",
    "df.drop(columns=[\"Open\",\"Vol.\",\"Change %\"])\n",
    "df.head(5)"
   ]
  },
  {
   "cell_type": "markdown",
   "metadata": {},
   "source": [
    "## Calculation \n",
    "- Both high and low values are strings \n",
    "- replace the , and convert them into float for the calculation\n",
    "- calculate the value as the average between the daily high and daily low. \n",
    "- Sort the value by date and save it to csv"
   ]
  },
  {
   "cell_type": "code",
   "execution_count": 9,
   "metadata": {},
   "outputs": [],
   "source": [
    "df[\"High\"]=df[\"High\"].str.replace(\",\",\"\").astype(\"float\")"
   ]
  },
  {
   "cell_type": "code",
   "execution_count": 8,
   "metadata": {},
   "outputs": [],
   "source": [
    "df[\"Low\"]=df[\"Low\"].str.replace(\",\",\"\").astype(\"float\")"
   ]
  },
  {
   "cell_type": "code",
   "execution_count": 7,
   "metadata": {},
   "outputs": [],
   "source": [
    "df[\"FTSE_MIB_IT_value\"]=df[\"Price\"].str.replace(\",\",\"\").astype(\"float\")"
   ]
  },
  {
   "cell_type": "code",
   "execution_count": 6,
   "metadata": {},
   "outputs": [
    {
     "data": {
      "text/plain": [
       "Date        datetime64[ns]\n",
       "Price               object\n",
       "Open                object\n",
       "High                object\n",
       "Low                 object\n",
       "Vol.                object\n",
       "Change %            object\n",
       "dtype: object"
      ]
     },
     "execution_count": 6,
     "metadata": {},
     "output_type": "execute_result"
    }
   ],
   "source": [
    "df.dtypes"
   ]
  },
  {
   "cell_type": "code",
   "execution_count": 14,
   "metadata": {},
   "outputs": [
    {
     "data": {
      "text/html": [
       "<div>\n",
       "<style scoped>\n",
       "    .dataframe tbody tr th:only-of-type {\n",
       "        vertical-align: middle;\n",
       "    }\n",
       "\n",
       "    .dataframe tbody tr th {\n",
       "        vertical-align: top;\n",
       "    }\n",
       "\n",
       "    .dataframe thead th {\n",
       "        text-align: right;\n",
       "    }\n",
       "</style>\n",
       "<table border=\"1\" class=\"dataframe\">\n",
       "  <thead>\n",
       "    <tr style=\"text-align: right;\">\n",
       "      <th></th>\n",
       "      <th>Date</th>\n",
       "      <th>FTSE_MIB_IT_value</th>\n",
       "    </tr>\n",
       "  </thead>\n",
       "  <tbody>\n",
       "    <tr>\n",
       "      <th>0</th>\n",
       "      <td>2020-04-07</td>\n",
       "      <td>17411.72</td>\n",
       "    </tr>\n",
       "    <tr>\n",
       "      <th>1</th>\n",
       "      <td>2020-04-06</td>\n",
       "      <td>17039.31</td>\n",
       "    </tr>\n",
       "    <tr>\n",
       "      <th>2</th>\n",
       "      <td>2020-04-03</td>\n",
       "      <td>16384.35</td>\n",
       "    </tr>\n",
       "    <tr>\n",
       "      <th>3</th>\n",
       "      <td>2020-04-02</td>\n",
       "      <td>16834.03</td>\n",
       "    </tr>\n",
       "    <tr>\n",
       "      <th>4</th>\n",
       "      <td>2020-04-01</td>\n",
       "      <td>16544.97</td>\n",
       "    </tr>\n",
       "    <tr>\n",
       "      <th>5</th>\n",
       "      <td>2020-03-31</td>\n",
       "      <td>17050.94</td>\n",
       "    </tr>\n",
       "    <tr>\n",
       "      <th>6</th>\n",
       "      <td>2020-03-30</td>\n",
       "      <td>16872.41</td>\n",
       "    </tr>\n",
       "    <tr>\n",
       "      <th>7</th>\n",
       "      <td>2020-03-27</td>\n",
       "      <td>16822.59</td>\n",
       "    </tr>\n",
       "    <tr>\n",
       "      <th>8</th>\n",
       "      <td>2020-03-26</td>\n",
       "      <td>17369.38</td>\n",
       "    </tr>\n",
       "    <tr>\n",
       "      <th>9</th>\n",
       "      <td>2020-03-25</td>\n",
       "      <td>17243.68</td>\n",
       "    </tr>\n",
       "  </tbody>\n",
       "</table>\n",
       "</div>"
      ],
      "text/plain": [
       "        Date  FTSE_MIB_IT_value\n",
       "0 2020-04-07           17411.72\n",
       "1 2020-04-06           17039.31\n",
       "2 2020-04-03           16384.35\n",
       "3 2020-04-02           16834.03\n",
       "4 2020-04-01           16544.97\n",
       "5 2020-03-31           17050.94\n",
       "6 2020-03-30           16872.41\n",
       "7 2020-03-27           16822.59\n",
       "8 2020-03-26           17369.38\n",
       "9 2020-03-25           17243.68"
      ]
     },
     "execution_count": 14,
     "metadata": {},
     "output_type": "execute_result"
    }
   ],
   "source": [
    "df = (df\n",
    "       .loc[(df[\"Date\"]>=\"2019-01-01\")&(df[\"Date\"]<\"2020-04-08\"),:]\n",
    "       .sort_values(\"Date\", ascending=False)\n",
    "       .reset_index()\n",
    "       .drop(columns=\"index\")\n",
    "        )[[\"Date\",\"FTSE_MIB_IT_value\"]]\n",
    "\n",
    "df.head(10)"
   ]
  },
  {
   "cell_type": "code",
   "execution_count": 34,
   "metadata": {},
   "outputs": [],
   "source": [
    "df.to_csv(\"NASDAQ_clean\")"
   ]
  },
  {
   "cell_type": "code",
   "execution_count": null,
   "metadata": {},
   "outputs": [],
   "source": []
  },
  {
   "cell_type": "code",
   "execution_count": null,
   "metadata": {},
   "outputs": [],
   "source": []
  }
 ],
 "metadata": {
  "kernelspec": {
   "display_name": "Python 3",
   "language": "python",
   "name": "python3"
  },
  "language_info": {
   "codemirror_mode": {
    "name": "ipython",
    "version": 3
   },
   "file_extension": ".py",
   "mimetype": "text/x-python",
   "name": "python",
   "nbconvert_exporter": "python",
   "pygments_lexer": "ipython3",
   "version": "3.8.1"
  }
 },
 "nbformat": 4,
 "nbformat_minor": 4
}
