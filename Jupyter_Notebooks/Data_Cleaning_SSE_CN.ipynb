{
 "cells": [
  {
   "cell_type": "code",
   "execution_count": 1,
   "metadata": {},
   "outputs": [],
   "source": [
    "import pandas as pd\n",
    "import numpy as np"
   ]
  },
  {
   "cell_type": "code",
   "execution_count": 2,
   "metadata": {},
   "outputs": [],
   "source": [
    "# retrieving raw data for the IBEX 35 index into a DataFrame\n",
    "df_sse = pd.read_csv('/Users/jsialell/Data_Thief_Project_Team_Wall-e/data/ARCHIV/SSE_CN.csv')"
   ]
  },
  {
   "cell_type": "code",
   "execution_count": 3,
   "metadata": {},
   "outputs": [
    {
     "data": {
      "text/html": [
       "<div>\n",
       "<style scoped>\n",
       "    .dataframe tbody tr th:only-of-type {\n",
       "        vertical-align: middle;\n",
       "    }\n",
       "\n",
       "    .dataframe tbody tr th {\n",
       "        vertical-align: top;\n",
       "    }\n",
       "\n",
       "    .dataframe thead th {\n",
       "        text-align: right;\n",
       "    }\n",
       "</style>\n",
       "<table border=\"1\" class=\"dataframe\">\n",
       "  <thead>\n",
       "    <tr style=\"text-align: right;\">\n",
       "      <th></th>\n",
       "      <th>Date</th>\n",
       "      <th>Open</th>\n",
       "      <th>High</th>\n",
       "      <th>Low</th>\n",
       "      <th>Close</th>\n",
       "      <th>Adj Close</th>\n",
       "      <th>Volume</th>\n",
       "    </tr>\n",
       "  </thead>\n",
       "  <tbody>\n",
       "    <tr>\n",
       "      <th>0</th>\n",
       "      <td>2019-04-08</td>\n",
       "      <td>3271.271973</td>\n",
       "      <td>3288.452881</td>\n",
       "      <td>3210.514893</td>\n",
       "      <td>3244.810059</td>\n",
       "      <td>3244.810059</td>\n",
       "      <td>504500.0</td>\n",
       "    </tr>\n",
       "    <tr>\n",
       "      <th>1</th>\n",
       "      <td>2019-04-09</td>\n",
       "      <td>3240.394043</td>\n",
       "      <td>3251.645996</td>\n",
       "      <td>3215.705078</td>\n",
       "      <td>3239.664063</td>\n",
       "      <td>3239.664063</td>\n",
       "      <td>364200.0</td>\n",
       "    </tr>\n",
       "    <tr>\n",
       "      <th>2</th>\n",
       "      <td>2019-04-10</td>\n",
       "      <td>3224.645020</td>\n",
       "      <td>3264.778076</td>\n",
       "      <td>3204.878906</td>\n",
       "      <td>3241.929932</td>\n",
       "      <td>3241.929932</td>\n",
       "      <td>380100.0</td>\n",
       "    </tr>\n",
       "    <tr>\n",
       "      <th>3</th>\n",
       "      <td>2019-04-11</td>\n",
       "      <td>3241.547119</td>\n",
       "      <td>3254.125977</td>\n",
       "      <td>3185.545898</td>\n",
       "      <td>3189.961914</td>\n",
       "      <td>3189.961914</td>\n",
       "      <td>353000.0</td>\n",
       "    </tr>\n",
       "    <tr>\n",
       "      <th>4</th>\n",
       "      <td>2019-04-12</td>\n",
       "      <td>3184.860107</td>\n",
       "      <td>3199.278076</td>\n",
       "      <td>3168.041992</td>\n",
       "      <td>3188.625977</td>\n",
       "      <td>3188.625977</td>\n",
       "      <td>289800.0</td>\n",
       "    </tr>\n",
       "  </tbody>\n",
       "</table>\n",
       "</div>"
      ],
      "text/plain": [
       "         Date         Open         High          Low        Close  \\\n",
       "0  2019-04-08  3271.271973  3288.452881  3210.514893  3244.810059   \n",
       "1  2019-04-09  3240.394043  3251.645996  3215.705078  3239.664063   \n",
       "2  2019-04-10  3224.645020  3264.778076  3204.878906  3241.929932   \n",
       "3  2019-04-11  3241.547119  3254.125977  3185.545898  3189.961914   \n",
       "4  2019-04-12  3184.860107  3199.278076  3168.041992  3188.625977   \n",
       "\n",
       "     Adj Close    Volume  \n",
       "0  3244.810059  504500.0  \n",
       "1  3239.664063  364200.0  \n",
       "2  3241.929932  380100.0  \n",
       "3  3189.961914  353000.0  \n",
       "4  3188.625977  289800.0  "
      ]
     },
     "execution_count": 3,
     "metadata": {},
     "output_type": "execute_result"
    }
   ],
   "source": [
    "df_sse.head()"
   ]
  },
  {
   "cell_type": "code",
   "execution_count": 4,
   "metadata": {},
   "outputs": [],
   "source": [
    "# Deleting unncessary columns\n",
    "df_sse = df_sse[['Date', 'Adj Close']]"
   ]
  },
  {
   "cell_type": "code",
   "execution_count": 5,
   "metadata": {},
   "outputs": [],
   "source": [
    "# Renaming column 'Adj Close' to 'SSE Index'\n",
    "df_sse = df_sse.rename(columns={'Adj Close': 'SSE Index'})"
   ]
  },
  {
   "cell_type": "code",
   "execution_count": 6,
   "metadata": {},
   "outputs": [],
   "source": [
    "# Formatting values in the 'Date' column to datetime\n",
    "df_sse['Date'] = pd.to_datetime(df_sse['Date'])"
   ]
  },
  {
   "cell_type": "code",
   "execution_count": 7,
   "metadata": {},
   "outputs": [],
   "source": [
    "# sorting the DataFrame chronologically from the latest to the earliest data\n",
    "df_sse = df_sse.sort_values(\"Date\", ascending=False)"
   ]
  },
  {
   "cell_type": "code",
   "execution_count": 12,
   "metadata": {},
   "outputs": [
    {
     "data": {
      "text/html": [
       "<div>\n",
       "<style scoped>\n",
       "    .dataframe tbody tr th:only-of-type {\n",
       "        vertical-align: middle;\n",
       "    }\n",
       "\n",
       "    .dataframe tbody tr th {\n",
       "        vertical-align: top;\n",
       "    }\n",
       "\n",
       "    .dataframe thead th {\n",
       "        text-align: right;\n",
       "    }\n",
       "</style>\n",
       "<table border=\"1\" class=\"dataframe\">\n",
       "  <thead>\n",
       "    <tr style=\"text-align: right;\">\n",
       "      <th></th>\n",
       "      <th>Date</th>\n",
       "      <th>SSE Index</th>\n",
       "    </tr>\n",
       "  </thead>\n",
       "  <tbody>\n",
       "    <tr>\n",
       "      <th>0</th>\n",
       "      <td>2020-04-08</td>\n",
       "      <td>2815.368652</td>\n",
       "    </tr>\n",
       "    <tr>\n",
       "      <th>1</th>\n",
       "      <td>2020-04-07</td>\n",
       "      <td>NaN</td>\n",
       "    </tr>\n",
       "    <tr>\n",
       "      <th>2</th>\n",
       "      <td>2020-04-03</td>\n",
       "      <td>2763.987061</td>\n",
       "    </tr>\n",
       "    <tr>\n",
       "      <th>3</th>\n",
       "      <td>2020-04-02</td>\n",
       "      <td>2780.637939</td>\n",
       "    </tr>\n",
       "    <tr>\n",
       "      <th>4</th>\n",
       "      <td>2020-04-01</td>\n",
       "      <td>2734.521973</td>\n",
       "    </tr>\n",
       "  </tbody>\n",
       "</table>\n",
       "</div>"
      ],
      "text/plain": [
       "        Date    SSE Index\n",
       "0 2020-04-08  2815.368652\n",
       "1 2020-04-07          NaN\n",
       "2 2020-04-03  2763.987061\n",
       "3 2020-04-02  2780.637939\n",
       "4 2020-04-01  2734.521973"
      ]
     },
     "execution_count": 12,
     "metadata": {},
     "output_type": "execute_result"
    }
   ],
   "source": [
    "df_sse.head() "
   ]
  },
  {
   "cell_type": "code",
   "execution_count": 9,
   "metadata": {},
   "outputs": [],
   "source": [
    "# Saving the clean data in the DataFrame as a csv. file\n",
    "# df_sse.to_csv('/Users/jsialell/Data_Thief_Project_Team_Wall-e/data/ARCHIV/SSE_CNclean.csv')"
   ]
  }
 ],
 "metadata": {
  "kernelspec": {
   "display_name": "Python 3",
   "language": "python",
   "name": "python3"
  },
  "language_info": {
   "codemirror_mode": {
    "name": "ipython",
    "version": 3
   },
   "file_extension": ".py",
   "mimetype": "text/x-python",
   "name": "python",
   "nbconvert_exporter": "python",
   "pygments_lexer": "ipython3",
   "version": "3.8.1"
  }
 },
 "nbformat": 4,
 "nbformat_minor": 4
}
