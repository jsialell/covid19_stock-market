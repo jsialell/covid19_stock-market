{
 "cells": [
  {
   "cell_type": "code",
   "execution_count": 1,
   "metadata": {},
   "outputs": [],
   "source": [
    "import requests\n",
    "import pandas as pd\n",
    "import bs4\n",
    "import json"
   ]
  },
  {
   "cell_type": "markdown",
   "metadata": {},
   "source": [
    "1. First try to get population from API"
   ]
  },
  {
   "cell_type": "code",
   "execution_count": 2,
   "metadata": {},
   "outputs": [],
   "source": [
    "url = \"https://restcountries.eu/rest/v2/name/germany?fullText=true\"\n",
    "\n",
    "resp= requests.get(url)"
   ]
  },
  {
   "cell_type": "code",
   "execution_count": 3,
   "metadata": {},
   "outputs": [],
   "source": [
    "population = pd.DataFrame(resp.json())"
   ]
  },
  {
   "cell_type": "code",
   "execution_count": 4,
   "metadata": {},
   "outputs": [
    {
     "data": {
      "text/html": [
       "<div>\n",
       "<style scoped>\n",
       "    .dataframe tbody tr th:only-of-type {\n",
       "        vertical-align: middle;\n",
       "    }\n",
       "\n",
       "    .dataframe tbody tr th {\n",
       "        vertical-align: top;\n",
       "    }\n",
       "\n",
       "    .dataframe thead th {\n",
       "        text-align: right;\n",
       "    }\n",
       "</style>\n",
       "<table border=\"1\" class=\"dataframe\">\n",
       "  <thead>\n",
       "    <tr style=\"text-align: right;\">\n",
       "      <th></th>\n",
       "      <th>name</th>\n",
       "      <th>topLevelDomain</th>\n",
       "      <th>alpha2Code</th>\n",
       "      <th>alpha3Code</th>\n",
       "      <th>callingCodes</th>\n",
       "      <th>capital</th>\n",
       "      <th>altSpellings</th>\n",
       "      <th>region</th>\n",
       "      <th>subregion</th>\n",
       "      <th>population</th>\n",
       "      <th>...</th>\n",
       "      <th>timezones</th>\n",
       "      <th>borders</th>\n",
       "      <th>nativeName</th>\n",
       "      <th>numericCode</th>\n",
       "      <th>currencies</th>\n",
       "      <th>languages</th>\n",
       "      <th>translations</th>\n",
       "      <th>flag</th>\n",
       "      <th>regionalBlocs</th>\n",
       "      <th>cioc</th>\n",
       "    </tr>\n",
       "  </thead>\n",
       "  <tbody>\n",
       "    <tr>\n",
       "      <th>0</th>\n",
       "      <td>Germany</td>\n",
       "      <td>[.de]</td>\n",
       "      <td>DE</td>\n",
       "      <td>DEU</td>\n",
       "      <td>[49]</td>\n",
       "      <td>Berlin</td>\n",
       "      <td>[DE, Federal Republic of Germany, Bundesrepubl...</td>\n",
       "      <td>Europe</td>\n",
       "      <td>Western Europe</td>\n",
       "      <td>81770900</td>\n",
       "      <td>...</td>\n",
       "      <td>[UTC+01:00]</td>\n",
       "      <td>[AUT, BEL, CZE, DNK, FRA, LUX, NLD, POL, CHE]</td>\n",
       "      <td>Deutschland</td>\n",
       "      <td>276</td>\n",
       "      <td>[{'code': 'EUR', 'name': 'Euro', 'symbol': '€'}]</td>\n",
       "      <td>[{'iso639_1': 'de', 'iso639_2': 'deu', 'name':...</td>\n",
       "      <td>{'de': 'Deutschland', 'es': 'Alemania', 'fr': ...</td>\n",
       "      <td>https://restcountries.eu/data/deu.svg</td>\n",
       "      <td>[{'acronym': 'EU', 'name': 'European Union', '...</td>\n",
       "      <td>GER</td>\n",
       "    </tr>\n",
       "  </tbody>\n",
       "</table>\n",
       "<p>1 rows × 24 columns</p>\n",
       "</div>"
      ],
      "text/plain": [
       "      name topLevelDomain alpha2Code alpha3Code callingCodes capital  \\\n",
       "0  Germany          [.de]         DE        DEU         [49]  Berlin   \n",
       "\n",
       "                                        altSpellings  region       subregion  \\\n",
       "0  [DE, Federal Republic of Germany, Bundesrepubl...  Europe  Western Europe   \n",
       "\n",
       "   population  ...    timezones  \\\n",
       "0    81770900  ...  [UTC+01:00]   \n",
       "\n",
       "                                         borders   nativeName  numericCode  \\\n",
       "0  [AUT, BEL, CZE, DNK, FRA, LUX, NLD, POL, CHE]  Deutschland          276   \n",
       "\n",
       "                                         currencies  \\\n",
       "0  [{'code': 'EUR', 'name': 'Euro', 'symbol': '€'}]   \n",
       "\n",
       "                                           languages  \\\n",
       "0  [{'iso639_1': 'de', 'iso639_2': 'deu', 'name':...   \n",
       "\n",
       "                                        translations  \\\n",
       "0  {'de': 'Deutschland', 'es': 'Alemania', 'fr': ...   \n",
       "\n",
       "                                    flag  \\\n",
       "0  https://restcountries.eu/data/deu.svg   \n",
       "\n",
       "                                       regionalBlocs cioc  \n",
       "0  [{'acronym': 'EU', 'name': 'European Union', '...  GER  \n",
       "\n",
       "[1 rows x 24 columns]"
      ]
     },
     "execution_count": 4,
     "metadata": {},
     "output_type": "execute_result"
    }
   ],
   "source": [
    "population"
   ]
  },
  {
   "cell_type": "code",
   "execution_count": 5,
   "metadata": {},
   "outputs": [
    {
     "data": {
      "text/plain": [
       "0    81770900\n",
       "Name: population, dtype: int64"
      ]
     },
     "execution_count": 5,
     "metadata": {},
     "output_type": "execute_result"
    }
   ],
   "source": [
    "population[\"population\"]"
   ]
  },
  {
   "cell_type": "markdown",
   "metadata": {},
   "source": [
    "2. This data is old, and since we need 7 values we will create a dicitonary with information from the latest population (2020)"
   ]
  },
  {
   "cell_type": "code",
   "execution_count": 6,
   "metadata": {},
   "outputs": [],
   "source": [
    "population_dict = {\"China\": 1439323776,\n",
    "                  \"France\" : 65273511,\n",
    "                  \"Germany\" : 8783942,\n",
    "                   \"Italy\" : 60461826,\n",
    "                  \"Japan\" : 126476461,\n",
    "                   \"United States\" : 331002651}"
   ]
  },
  {
   "cell_type": "code",
   "execution_count": null,
   "metadata": {},
   "outputs": [],
   "source": []
  },
  {
   "cell_type": "code",
   "execution_count": null,
   "metadata": {},
   "outputs": [],
   "source": []
  }
 ],
 "metadata": {
  "kernelspec": {
   "display_name": "Python 3",
   "language": "python",
   "name": "python3"
  },
  "language_info": {
   "codemirror_mode": {
    "name": "ipython",
    "version": 3
   },
   "file_extension": ".py",
   "mimetype": "text/x-python",
   "name": "python",
   "nbconvert_exporter": "python",
   "pygments_lexer": "ipython3",
   "version": "3.7.6"
  }
 },
 "nbformat": 4,
 "nbformat_minor": 4
}
